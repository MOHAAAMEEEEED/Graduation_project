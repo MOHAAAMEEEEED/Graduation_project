{
 "cells": [
  {
   "cell_type": "code",
   "execution_count": 1,
   "id": "d7be2c78-ccd4-4dde-a910-2816611bebd3",
   "metadata": {},
   "outputs": [],
   "source": [
    "import subprocess\n",
    "import os\n",
    "\n",
    "def convert_to_wav(input_file, output_file='output.wav'):\n",
    "    # Use FFmpeg to convert to WAV format\n",
    "    command = ['ffmpeg', '-i', input_file, output_file]\n",
    "    subprocess.run(command, check=True)\n",
    "    return output_file\n"
   ]
  },
  {
   "cell_type": "code",
   "execution_count": 2,
   "id": "55a12af1-4959-43e4-b684-defd9f47771b",
   "metadata": {},
   "outputs": [
    {
     "name": "stdout",
     "output_type": "stream",
     "text": [
      "Transcribed Text:   Before he had time to answer a much encumbered Vera burst into the room with the question, I say, can I leave these here? These were a small black pig and a lusty specimen of black red gamecock.\n"
     ]
    }
   ],
   "source": [
    "import whisper\n",
    "\n",
    "model = whisper.load_model(\"base\")\n",
    "\n",
    "# Convert any audio/video format to WAV\n",
    "input_file = \"C:/Users/Mohamed Walid/OneDrive/Desktop/sample2.flac\" \n",
    "wav_file = convert_to_wav(input_file)\n",
    "\n",
    "# Transcribe the WAV file using Whisper\n",
    "result = model.transcribe(wav_file)\n",
    "\n",
    "# Print the transcribed text\n",
    "print(\"Transcribed Text: \", result['text'])\n"
   ]
  },
  {
   "cell_type": "code",
   "execution_count": null,
   "id": "f69a330d-c773-4b36-9ddd-6920998e260b",
   "metadata": {},
   "outputs": [],
   "source": []
  },
  {
   "cell_type": "code",
   "execution_count": null,
   "id": "4f46c2a4-e0fd-4a69-9517-196a924e79f5",
   "metadata": {},
   "outputs": [],
   "source": []
  },
  {
   "cell_type": "code",
   "execution_count": null,
   "id": "0e516a11-c923-49c7-badc-44afc3dc6be5",
   "metadata": {},
   "outputs": [],
   "source": []
  },
  {
   "cell_type": "code",
   "execution_count": null,
   "id": "3b882e58-1d04-4b98-a35b-b8395ca0d68e",
   "metadata": {},
   "outputs": [],
   "source": []
  },
  {
   "cell_type": "code",
   "execution_count": null,
   "id": "fbc27757-6b13-43ef-8305-735b3a8ae0d5",
   "metadata": {},
   "outputs": [],
   "source": []
  },
  {
   "cell_type": "code",
   "execution_count": null,
   "id": "8c6f6867-b0c4-482e-9b55-15fc29a46503",
   "metadata": {},
   "outputs": [],
   "source": []
  },
  {
   "cell_type": "code",
   "execution_count": 3,
   "id": "3ed61f1b-181c-47a3-8820-fcd0e69200ce",
   "metadata": {
    "scrolled": true
   },
   "outputs": [],
   "source": [
    "import os\n",
    "import subprocess\n",
    "import whisper\n",
    "import logging\n",
    "from typing import Optional, Dict, Union\n",
    "from pathlib import Path\n",
    "\n",
    "class WhisperTranscriber:\n",
    "    \"\"\"\n",
    "    A class to handle audio/video transcription using OpenAI's Whisper model.\n",
    "    Supports multiple input formats and handles conversion to WAV using FFmpeg.\n",
    "    \"\"\"\n",
    "    \n",
    "    def __init__(self):\n",
    "        \"\"\"\n",
    "        Initialize the transcriber with the 'base' Whisper model.\n",
    "        \"\"\"\n",
    "        self.setup_logging()\n",
    "        self.model = whisper.load_model(\"base\")\n",
    "        self.language = \"en\"\n",
    "\n",
    "    def setup_logging(self) -> None:\n",
    "        \"\"\"Configure logging for the transcriber.\"\"\"\n",
    "        logging.basicConfig(\n",
    "            level=logging.INFO,\n",
    "            format='%(asctime)s - %(levelname)s - %(message)s'\n",
    "        )\n",
    "        self.logger = logging.getLogger(__name__)\n",
    "\n",
    "    def convert_to_wav(self, input_file: Union[str, Path], output_dir: Optional[str] = None) -> Optional[str]:\n",
    "        \"\"\"\n",
    "        Convert input audio/video file to WAV format using FFmpeg.\n",
    "        \n",
    "        Args:\n",
    "            input_file (Union[str, Path]): Path to input audio/video file\n",
    "            output_dir (Optional[str]): Directory for output WAV file\n",
    "            \n",
    "        Returns:\n",
    "            Optional[str]: Path to output WAV file if successful, None otherwise\n",
    "        \"\"\"\n",
    "        try:\n",
    "            input_path = Path(input_file)\n",
    "            if not input_path.exists():\n",
    "                self.logger.error(f\"Input file not found: {input_file}\")\n",
    "                return None\n",
    "            \n",
    "            # Determine output path\n",
    "            if output_dir:\n",
    "                output_path = Path(output_dir) / f\"{input_path.stem}.wav\"\n",
    "            else:\n",
    "                output_path = input_path.with_suffix('.wav')\n",
    "                \n",
    "            # Create output directory if it doesn't exist\n",
    "            output_path.parent.mkdir(parents=True, exist_ok=True)\n",
    "            \n",
    "            # FFmpeg command for conversion\n",
    "            command = [\n",
    "                'ffmpeg',\n",
    "                '-i', str(input_path),\n",
    "                '-ar', '16000',  # Sample rate 16kHz\n",
    "                '-ac', '1',      # Mono audio\n",
    "                '-c:a', 'pcm_s16le',  # 16-bit PCM encoding\n",
    "                str(output_path),\n",
    "                '-y'  # Overwrite output file if exists\n",
    "            ]\n",
    "            \n",
    "            self.logger.info(f\"Converting {input_path} to WAV format\")\n",
    "            result = subprocess.run(\n",
    "                command,\n",
    "                stdout=subprocess.PIPE,\n",
    "                stderr=subprocess.PIPE,\n",
    "                text=True\n",
    "            )\n",
    "            \n",
    "            if result.returncode != 0:\n",
    "                self.logger.error(f\"FFmpeg conversion failed: {result.stderr}\")\n",
    "                return None\n",
    "                \n",
    "            self.logger.info(\"Conversion successful\")\n",
    "            return str(output_path)\n",
    "            \n",
    "        except Exception as e:\n",
    "            self.logger.error(f\"Error during conversion: {str(e)}\")\n",
    "            return None\n",
    "    \n",
    "    def transcribe(self, \n",
    "                  input_file: Union[str, Path], \n",
    "                  output_dir: Optional[str] = None,\n",
    "                  cleanup: bool = True) -> Dict:\n",
    "        \"\"\"\n",
    "        Transcribe audio/video file using Whisper.\n",
    "        \n",
    "        Args:\n",
    "            input_file (Union[str, Path]): Path to input audio/video file\n",
    "            output_dir (Optional[str]): Directory for temporary WAV file\n",
    "            cleanup (bool): Whether to delete temporary WAV file after transcription\n",
    "            \n",
    "        Returns:\n",
    "            Dict: Transcription result containing text and other metadata\n",
    "        \"\"\"\n",
    "        try:\n",
    "            # Convert to WAV if input is not already WAV\n",
    "            input_path = Path(input_file)\n",
    "            if input_path.suffix.lower() != '.wav':\n",
    "                self.logger.info(\"Converting input file to WAV format\")\n",
    "                wav_file = self.convert_to_wav(input_file, output_dir)\n",
    "                if not wav_file:\n",
    "                    raise RuntimeError(\"Failed to convert input file to WAV format\")\n",
    "            else:\n",
    "                wav_file = str(input_path)\n",
    "            \n",
    "            # Perform transcription\n",
    "            self.logger.info(\"Starting transcription\")\n",
    "            result = self.model.transcribe(wav_file, language=self.language)\n",
    "            self.logger.info(\"Transcription completed successfully\")\n",
    "            \n",
    "            # Cleanup temporary WAV file if requested\n",
    "            if cleanup and input_path.suffix.lower() != '.wav':\n",
    "                try:\n",
    "                    os.remove(wav_file)\n",
    "                    self.logger.info(f\"Cleaned up temporary WAV file: {wav_file}\")\n",
    "                except Exception as e:\n",
    "                    self.logger.warning(f\"Failed to cleanup temporary file: {str(e)}\")\n",
    "            \n",
    "            return result\n",
    "            \n",
    "        except Exception as e:\n",
    "            self.logger.error(f\"Transcription failed: {str(e)}\")\n",
    "            raise"
   ]
  },
  {
   "cell_type": "code",
   "execution_count": 7,
   "id": "f97113f5-7b5c-4b57-8e83-6e539be66cc1",
   "metadata": {},
   "outputs": [
    {
     "name": "stderr",
     "output_type": "stream",
     "text": [
      "2024-10-27 01:12:31,728 - INFO - Converting input file to WAV format\n",
      "2024-10-27 01:12:31,730 - INFO - Converting C:\\Users\\Mohamed Walid\\OneDrive\\Desktop\\Small Talk  Everyday English.mp4 to WAV format\n",
      "2024-10-27 01:12:31,937 - INFO - Conversion successful\n",
      "2024-10-27 01:12:31,938 - INFO - Starting transcription\n",
      "2024-10-27 01:12:38,762 - INFO - Transcription completed successfully\n",
      "2024-10-27 01:12:38,764 - INFO - Cleaned up temporary WAV file: C:\\Users\\Mohamed Walid\\OneDrive\\Desktop\\Small Talk  Everyday English.wav\n"
     ]
    },
    {
     "name": "stdout",
     "output_type": "stream",
     "text": [
      "Transcription:  So, what's new Mark? How is your new job going? To be honest, I can't complain. I really love the company that I am working for. My co-workers are all really friendly and helpful. They really help me feel welcome. It's a really energetic and fun atmosphere. My boss is hilarious and he's really flexible. Really? How so? He allows me to come in when I want and make my own hours. I can also leave early if I start early. There is no real dress code either. I can wear jeans and a t-shirt if I want. I can even wear shorts in the summer. Wow. It sounds really cool. I can't stand wearing a suit every day. Which do you prefer? Working late or finishing early? I prefer finishing early. I really enjoy the morning. I love getting up early and going for a run. There is nothing like watching the sunrise while drinking my morning coffee. Really? I am opposite. I love sleeping in. I am most alert in the evenings. I'm a real night owl. Well, you know what they say. The early bird catches the worm. You know, you could be right. Maybe I will try to go to bed a little earlier tonight.\n"
     ]
    }
   ],
   "source": [
    "# Initialize transcriber\n",
    "transcriber = WhisperTranscriber()\n",
    "    \n",
    "input_file = \"C:/Users/Mohamed Walid/OneDrive/Desktop/Small Talk  Everyday English.mp4\"\n",
    "try:\n",
    "    result = transcriber.transcribe(input_file)\n",
    "        \n",
    "    # Store the transcribed text in a variable\n",
    "    transcribed_text = result['text']\n",
    "        \n",
    "    # Print the transcribed text\n",
    "    print(f\"Transcription: {transcribed_text}\")\n",
    "        \n",
    "    # You can now use transcribed_text for further processing\n",
    "    # For example, save to a file or use in other functions\n",
    "except Exception as e:\n",
    "    print(f\"Transcription failed: {e}\")"
   ]
  },
  {
   "cell_type": "code",
   "execution_count": 8,
   "id": "f7a0f6eb-776a-4a2f-8256-837eb65a8176",
   "metadata": {},
   "outputs": [
    {
     "data": {
      "text/plain": [
       "\" So, what's new Mark? How is your new job going? To be honest, I can't complain. I really love the company that I am working for. My co-workers are all really friendly and helpful. They really help me feel welcome. It's a really energetic and fun atmosphere. My boss is hilarious and he's really flexible. Really? How so? He allows me to come in when I want and make my own hours. I can also leave early if I start early. There is no real dress code either. I can wear jeans and a t-shirt if I want. I can even wear shorts in the summer. Wow. It sounds really cool. I can't stand wearing a suit every day. Which do you prefer? Working late or finishing early? I prefer finishing early. I really enjoy the morning. I love getting up early and going for a run. There is nothing like watching the sunrise while drinking my morning coffee. Really? I am opposite. I love sleeping in. I am most alert in the evenings. I'm a real night owl. Well, you know what they say. The early bird catches the worm. You know, you could be right. Maybe I will try to go to bed a little earlier tonight.\""
      ]
     },
     "execution_count": 8,
     "metadata": {},
     "output_type": "execute_result"
    }
   ],
   "source": [
    "transcribed_text"
   ]
  }
 ],
 "metadata": {
  "kernelspec": {
   "display_name": "Python 3 (ipykernel)",
   "language": "python",
   "name": "python3"
  },
  "language_info": {
   "codemirror_mode": {
    "name": "ipython",
    "version": 3
   },
   "file_extension": ".py",
   "mimetype": "text/x-python",
   "name": "python",
   "nbconvert_exporter": "python",
   "pygments_lexer": "ipython3",
   "version": "3.11.5"
  }
 },
 "nbformat": 4,
 "nbformat_minor": 5
}
